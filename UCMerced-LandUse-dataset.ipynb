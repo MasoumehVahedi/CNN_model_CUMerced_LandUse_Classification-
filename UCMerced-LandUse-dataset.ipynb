{
 "cells": [
  {
   "cell_type": "markdown",
   "metadata": {},
   "source": [
    "# Importing libraries"
   ]
  },
  {
   "cell_type": "code",
   "execution_count": 2,
   "metadata": {},
   "outputs": [],
   "source": [
    "import matplotlib.pyplot as plt\n",
    "import pickle\n",
    "from tensorflow import keras\n",
    "import numpy as np\n",
    "import os\n",
    "from skimage.io import imshow, imread\n",
    "import re\n",
    "from tensorflow.keras.models import Sequential\n",
    "from tensorflow.keras.layers import Dense, Dropout, Activation, Flatten\n",
    "from tensorflow.keras.layers import Conv2D, MaxPooling2D\n",
    "from keras.utils import np_utils"
   ]
  },
  {
   "cell_type": "markdown",
   "metadata": {},
   "source": [
    "# Input the dataset"
   ]
  },
  {
   "cell_type": "code",
   "execution_count": 3,
   "metadata": {},
   "outputs": [],
   "source": [
    "PATH = 'D:/UCMerced_LandUse/Images/'\n",
    "\n",
    "# we read all the folder names\n",
    "ds = next(os.walk(PATH))[1]\n",
    "    \n",
    "x_train = []\n",
    "y_train = []\n",
    "x_test = []\n",
    "y_test = []\n",
    "label = 0\n",
    "for i in ds:\n",
    "    n = 0\n",
    "    count = 0\n",
    "    # we want to read all images in each folder, so it need to enter each folder\n",
    "    myPicList = os.listdir(PATH+\"/\"+str(i))\n",
    "    for img in myPicList:\n",
    "        im = imread(PATH+\"/\"+str(i)+\"/\"+img)\n",
    "        im = np.array(im)\n",
    "        if((im.shape[0]==256) and (im.shape[1] ==256) and count <90):\n",
    "            r = im[:,:,0]\n",
    "            g = im[:,:,1]\n",
    "            b = im[:,:,2]\n",
    "            if(n<5):    \n",
    "                x_test.append([r,g,b])\n",
    "                y_test.append([label])\n",
    "            else:\n",
    "                x_train.append([r,g,b])\n",
    "                y_train.append([label])\n",
    "            n = n + 1\n",
    "            count = count + 1\n",
    "    label = label + 1\n",
    "    "
   ]
  },
  {
   "cell_type": "code",
   "execution_count": 4,
   "metadata": {},
   "outputs": [],
   "source": [
    "x_train = np.array(x_train)\n",
    "y_train = np.array(y_train)\n",
    "x_test = np.array(x_test)\n",
    "y_test = np.array(y_test)"
   ]
  },
  {
   "cell_type": "code",
   "execution_count": 5,
   "metadata": {},
   "outputs": [
    {
     "data": {
      "text/plain": [
       "(256, 256, 3)"
      ]
     },
     "metadata": {},
     "output_type": "display_data"
    }
   ],
   "source": [
    "# The images of UCMerced Landsat dataset are 256*256\n",
    "row_size = 256 \n",
    "col_size = 256\n",
    "# Just 3 folders has been selected\n",
    "num_class = 3   \n",
    "\n",
    "\n",
    "x_train = x_train.reshape(x_train.shape[0], row_size, col_size, 3)\n",
    "x_test = x_test.reshape(x_test.shape[0], row_size, col_size, 3)\n",
    "\n",
    "# taking the input shape for creating input layer of CNN\n",
    "input_shape = (row_size, col_size, 3)\n",
    "display(input_shape)"
   ]
  },
  {
   "cell_type": "code",
   "execution_count": 6,
   "metadata": {},
   "outputs": [],
   "source": [
    "# Normalize the input\n",
    "x_train = x_train.astype('float32')\n",
    "x_test = x_test.astype('float32')\n",
    "x_train /= 255.0\n",
    "x_test /= 255.0"
   ]
  },
  {
   "cell_type": "code",
   "execution_count": 7,
   "metadata": {},
   "outputs": [],
   "source": [
    "''' y: class vector to be converted into a matrix (integers from 0 to num_classes).\n",
    "num_classes: total number of classes. \n",
    "So when we pass num_classes=3 it expects elements of y to be in {0, 1, 2}. \n",
    "we could simply convert our data to this zero-based format: \n",
    "Y_train = keras.utils.to_categorical(y_train -1, 3) instead of this format:\n",
    "Y_train = keras.utils.to_categorical(y_train, 3) '''\n",
    "\n",
    "Y_train = keras.utils.to_categorical(y_train -1, 3)\n",
    "Y_test = keras.utils.to_categorical(y_test -1, 3)"
   ]
  },
  {
   "cell_type": "code",
   "execution_count": 8,
   "metadata": {},
   "outputs": [
    {
     "name": "stdout",
     "output_type": "stream",
     "text": [
      "(255, 256, 256, 3)\n",
      "(15, 256, 256, 3)\n",
      "(255, 3)\n",
      "(15, 3)\n"
     ]
    }
   ],
   "source": [
    "print(x_train.shape)\n",
    "print(x_test.shape)\n",
    "print(Y_train.shape)\n",
    "print(Y_test.shape)"
   ]
  },
  {
   "cell_type": "markdown",
   "metadata": {},
   "source": [
    "# Set up CNN model"
   ]
  },
  {
   "cell_type": "code",
   "execution_count": 9,
   "metadata": {},
   "outputs": [
    {
     "name": "stdout",
     "output_type": "stream",
     "text": [
      "WARNING:tensorflow:From C:\\Users\\VHD\\anaconda3\\envs\\tf\\lib\\site-packages\\tensorflow\\python\\ops\\init_ops.py:1251: calling VarianceScaling.__init__ (from tensorflow.python.ops.init_ops) with dtype is deprecated and will be removed in a future version.\n",
      "Instructions for updating:\n",
      "Call initializer instance with the dtype argument instead of passing it to the constructor\n",
      "Model: \"sequential\"\n",
      "_________________________________________________________________\n",
      "Layer (type)                 Output Shape              Param #   \n",
      "=================================================================\n",
      "conv2d (Conv2D)              (None, 254, 254, 32)      896       \n",
      "_________________________________________________________________\n",
      "max_pooling2d (MaxPooling2D) (None, 127, 127, 32)      0         \n",
      "_________________________________________________________________\n",
      "conv2d_1 (Conv2D)            (None, 125, 125, 32)      9248      \n",
      "_________________________________________________________________\n",
      "max_pooling2d_1 (MaxPooling2 (None, 62, 62, 32)        0         \n",
      "_________________________________________________________________\n",
      "dropout (Dropout)            (None, 62, 62, 32)        0         \n",
      "_________________________________________________________________\n",
      "flatten (Flatten)            (None, 123008)            0         \n",
      "_________________________________________________________________\n",
      "dense (Dense)                (None, 128)               15745152  \n",
      "_________________________________________________________________\n",
      "dropout_1 (Dropout)          (None, 128)               0         \n",
      "_________________________________________________________________\n",
      "dense_1 (Dense)              (None, 3)                 387       \n",
      "=================================================================\n",
      "Total params: 15,755,683\n",
      "Trainable params: 15,755,683\n",
      "Non-trainable params: 0\n",
      "_________________________________________________________________\n"
     ]
    }
   ],
   "source": [
    "model = Sequential() \n",
    "\n",
    "model.add(Conv2D(32, kernel_size=(3, 3),activation='relu',input_shape=input_shape))\n",
    "model.add(MaxPooling2D(pool_size=(2,2)))\n",
    "\n",
    "model.add(Conv2D(32, (3, 3), activation='relu'))\n",
    "model.add(MaxPooling2D(pool_size=(2,2)))\n",
    "\n",
    "#Adding a dropout layer with score 0.25\n",
    "\n",
    "model.add(Dropout(0.25))\n",
    "model.add(Flatten())\n",
    "\n",
    "model.add(Dense(128, activation='relu'))\n",
    "model.add(Dropout(0.5))\n",
    "\n",
    "# Here as 3 folders has been taken, the output shoulde have 3 layers\n",
    "model.add(Dense(3, activation='softmax'))\n",
    "\n",
    "# Compile the model\n",
    "model.compile(loss='categorical_crossentropy', optimizer='adam', metrics=['accuracy'])\n",
    "\n",
    "model.summary()"
   ]
  },
  {
   "cell_type": "code",
   "execution_count": 10,
   "metadata": {},
   "outputs": [
    {
     "name": "stdout",
     "output_type": "stream",
     "text": [
      "Train on 255 samples, validate on 15 samples\n",
      "Epoch 1/10\n",
      "255/255 [==============================] - 52s 203ms/sample - loss: 5.9086 - acc: 0.3137 - val_loss: 1.3841 - val_acc: 0.6667\n",
      "Epoch 2/10\n",
      "255/255 [==============================] - 51s 199ms/sample - loss: 1.2209 - acc: 0.3804 - val_loss: 1.0630 - val_acc: 0.6667\n",
      "Epoch 3/10\n",
      "255/255 [==============================] - 52s 203ms/sample - loss: 1.0704 - acc: 0.3961 - val_loss: 0.9542 - val_acc: 0.3333\n",
      "Epoch 4/10\n",
      "255/255 [==============================] - 54s 211ms/sample - loss: 0.9466 - acc: 0.5882 - val_loss: 0.6472 - val_acc: 0.8667\n",
      "Epoch 5/10\n",
      "255/255 [==============================] - 52s 204ms/sample - loss: 0.8276 - acc: 0.6392 - val_loss: 0.8398 - val_acc: 0.6667\n",
      "Epoch 6/10\n",
      "255/255 [==============================] - 51s 201ms/sample - loss: 0.7573 - acc: 0.6745 - val_loss: 0.6510 - val_acc: 0.6667\n",
      "Epoch 7/10\n",
      "255/255 [==============================] - 51s 201ms/sample - loss: 0.5505 - acc: 0.7725 - val_loss: 0.7366 - val_acc: 0.6667\n",
      "Epoch 8/10\n",
      "255/255 [==============================] - 51s 201ms/sample - loss: 0.4828 - acc: 0.8275 - val_loss: 0.6031 - val_acc: 0.8000\n",
      "Epoch 9/10\n",
      "255/255 [==============================] - 51s 200ms/sample - loss: 0.4024 - acc: 0.8941 - val_loss: 0.6523 - val_acc: 0.7333\n",
      "Epoch 10/10\n",
      "255/255 [==============================] - 51s 201ms/sample - loss: 0.2908 - acc: 0.9020 - val_loss: 0.4000 - val_acc: 0.8000\n",
      "15/15 [==============================] - 1s 65ms/sample - loss: 0.4000 - acc: 0.8000\n",
      "\n",
      "loss: 0.399983674287796, accuracy: 0.800000011920929\n",
      "\n"
     ]
    }
   ],
   "source": [
    "# Train the model and then check the accuracy\n",
    "history = model.fit(x_train, Y_train, batch_size=50, epochs=10, verbose=1, validation_data=(x_test, Y_test))\n",
    "loss, accuracy = model.evaluate(x_test, Y_test, verbose=1)\n",
    "print('\\nloss: {}, accuracy: {}\\n'.format(loss, accuracy))"
   ]
  },
  {
   "cell_type": "code",
   "execution_count": 12,
   "metadata": {},
   "outputs": [
    {
     "data": {
      "image/png": "[encoded data removed]",
      "text/plain": [
       "<Figure size 432x288 with 1 Axes>"
      ]
     },
     "metadata": {
      "needs_background": "light"
     },
     "output_type": "display_data"
    }
   ],
   "source": [
    "plt.figure(1)\n",
    "plt.plot(history.history['loss'])\n",
    "plt.plot(history.history['val_loss'])\n",
    "plt.legend(['training', 'validation'])\n",
    "plt.title('loss')\n",
    "plt.xlabel('epoch')\n",
    "plt.show()"
   ]
  },
  {
   "cell_type": "code",
   "execution_count": 13,
   "metadata": {},
   "outputs": [
    {
     "data": {
      "image/png": "[encoded data removed]",
      "text/plain": [
       "<Figure size 432x288 with 1 Axes>"
      ]
     },
     "metadata": {
      "needs_background": "light"
     },
     "output_type": "display_data"
    }
   ],
   "source": [
    "plt.figure(2)\n",
    "plt.plot(history.history['acc'])\n",
    "plt.plot(history.history['val_acc'])\n",
    "plt.legend(['training', 'validation'])\n",
    "plt.title('Acuracy')\n",
    "plt.xlabel('epoch')\n",
    "plt.show()"
   ]
  },
  {
   "cell_type": "code",
   "execution_count": null,
   "metadata": {},
   "outputs": [],
   "source": []
  }
 ],
 "metadata": {
  "kernelspec": {
   "display_name": "Python 3",
   "language": "python",
   "name": "python3"
  },
  "language_info": {
   "codemirror_mode": {
    "name": "ipython",
    "version": 3
   },
   "file_extension": ".py",
   "mimetype": "text/x-python",
   "name": "python",
   "nbconvert_exporter": "python",
   "pygments_lexer": "ipython3",
   "version": "3.7.7"
  }
 },
 "nbformat": 4,
 "nbformat_minor": 4
}
